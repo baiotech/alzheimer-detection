{
  "nbformat": 4,
  "nbformat_minor": 0,
  "metadata": {
    "colab": {
      "name": "biomarkers.ipynb",
      "version": "0.3.2",
      "provenance": []
    },
    "kernelspec": {
      "name": "python3",
      "display_name": "Python 3"
    }
  },
  "cells": [
    {
      "metadata": {
        "id": "AGJJPO2fXHrj",
        "colab_type": "code",
        "outputId": "06ae6496-5b12-4bd1-e705-923160d9e5ad",
        "colab": {
          "base_uri": "https://localhost:8080/",
          "height": 139
        }
      },
      "cell_type": "code",
      "source": [
        "!pip install torch torchvision\n",
        "!curl -O http://www.saedsayad.com/bm/RNA/GSE36980/gse/web/GSE36980_gse.zip\n",
        "!unzip GSE36980_gse.zip\n",
        "%ls"
      ],
      "execution_count": 0,
      "outputs": [
        {
          "output_type": "stream",
          "text": [
            "Requirement already satisfied: torch in /usr/local/lib/python3.6/dist-packages (1.0.1.post2)\n",
            "Requirement already satisfied: torchvision in /usr/local/lib/python3.6/dist-packages (0.2.2.post3)\n",
            "Requirement already satisfied: numpy in /usr/local/lib/python3.6/dist-packages (from torchvision) (1.14.6)\n",
            "Requirement already satisfied: six in /usr/local/lib/python3.6/dist-packages (from torchvision) (1.11.0)\n",
            "Requirement already satisfied: pillow>=4.1.1 in /usr/local/lib/python3.6/dist-packages (from torchvision) (4.1.1)\n",
            "Requirement already satisfied: olefile in /usr/local/lib/python3.6/dist-packages (from pillow>=4.1.1->torchvision) (0.46)\n"
          ],
          "name": "stdout"
        }
      ]
    },
    {
      "metadata": {
        "id": "SPpy6_Xuw8VM",
        "colab_type": "code",
        "outputId": "358beb56-af06-48dc-b3a6-d93cbefb203f",
        "colab": {
          "base_uri": "https://localhost:8080/",
          "height": 68
        }
      },
      "cell_type": "code",
      "source": [
        "!pip install scikit-learn"
      ],
      "execution_count": 0,
      "outputs": [
        {
          "output_type": "stream",
          "text": [
            "Requirement already satisfied: scikit-learn in /usr/local/lib/python3.6/dist-packages (0.20.3)\n",
            "Requirement already satisfied: numpy>=1.8.2 in /usr/local/lib/python3.6/dist-packages (from scikit-learn) (1.14.6)\n",
            "Requirement already satisfied: scipy>=0.13.3 in /usr/local/lib/python3.6/dist-packages (from scikit-learn) (1.1.0)\n"
          ],
          "name": "stdout"
        }
      ]
    },
    {
      "metadata": {
        "id": "PkxqZTonXfvQ",
        "colab_type": "code",
        "colab": {}
      },
      "cell_type": "code",
      "source": [
        "import torch\n",
        "import torch.nn as nn\n",
        "import torch.nn.functional as F"
      ],
      "execution_count": 0,
      "outputs": []
    },
    {
      "metadata": {
        "id": "8h_4KpgGH2Zc",
        "colab_type": "code",
        "outputId": "8db8eb6d-1824-4b0f-ece1-5e5a28131570",
        "colab": {
          "base_uri": "https://localhost:8080/",
          "height": 51
        }
      },
      "cell_type": "code",
      "source": [
        "!head -2 GSE36980_targets.csv"
      ],
      "execution_count": 0,
      "outputs": [
        {
          "output_type": "stream",
          "text": [
            "geo_accession,tissue,age,sex,target\r\n",
            "GSM907792,Frontal cortex,84,M,AD\r\n"
          ],
          "name": "stdout"
        }
      ]
    },
    {
      "metadata": {
        "id": "PJrn3CpsHkME",
        "colab_type": "code",
        "outputId": "800ce41f-5e42-4a46-8329-b264b1aae8e9",
        "colab": {
          "base_uri": "https://localhost:8080/",
          "height": 54
        }
      },
      "cell_type": "code",
      "source": [
        "import csv\n",
        "\n",
        "targets = []\n",
        "\n",
        "with open('GSE36980_targets.csv') as csvfile:\n",
        "  reader = csv.reader(csvfile, delimiter=',')\n",
        "  for row in reader:\n",
        "    targets.append(row[4])\n",
        "  \n",
        "targets = targets[1:]\n",
        "print(targets)"
      ],
      "execution_count": 0,
      "outputs": [
        {
          "output_type": "stream",
          "text": [
            "['AD', 'AD', 'AD', 'AD', 'AD', 'AD', 'AD', 'AD', 'AD', 'AD', 'AD', 'AD', 'AD', 'AD', 'AD', 'non-AD', 'non-AD', 'non-AD', 'non-AD', 'non-AD', 'non-AD', 'non-AD', 'non-AD', 'non-AD', 'non-AD', 'non-AD', 'non-AD', 'non-AD', 'non-AD', 'non-AD', 'non-AD', 'non-AD', 'non-AD', 'AD', 'AD', 'AD', 'AD', 'AD', 'AD', 'AD', 'AD', 'AD', 'AD', 'non-AD', 'non-AD', 'non-AD', 'non-AD', 'non-AD', 'non-AD', 'non-AD', 'non-AD', 'non-AD', 'non-AD', 'non-AD', 'non-AD', 'non-AD', 'non-AD', 'non-AD', 'non-AD', 'non-AD', 'non-AD', 'non-AD', 'AD', 'AD', 'AD', 'AD', 'AD', 'AD', 'AD', 'non-AD', 'non-AD', 'non-AD', 'non-AD', 'non-AD', 'non-AD', 'non-AD', 'non-AD', 'non-AD', 'non-AD']\n"
          ],
          "name": "stdout"
        }
      ]
    },
    {
      "metadata": {
        "id": "qzPlCQlhIoAX",
        "colab_type": "code",
        "outputId": "dc3d03f6-cf0c-4d68-d6fe-fbd343c20a5b",
        "colab": {
          "base_uri": "https://localhost:8080/",
          "height": 88
        }
      },
      "cell_type": "code",
      "source": [
        "!head -3 GSE36980.csv"
      ],
      "execution_count": 0,
      "outputs": [
        {
          "output_type": "stream",
          "text": [
            "GSM907792,GSM907793,GSM907794,GSM907795,GSM907796,GSM907797,GSM907798,GSM907799,GSM907800,GSM907801,GSM907802,GSM907803,GSM907804,GSM907805,GSM907806,GSM907807,GSM907808,GSM907809,GSM907810,GSM907811,GSM907812,GSM907813,GSM907814,GSM907815,GSM907816,GSM907817,GSM907818,GSM907819,GSM907820,GSM907821,GSM907822,GSM907823,GSM907824,GSM907825,GSM907826,GSM907827,GSM907828,GSM907829,GSM907830,GSM907831,GSM907832,GSM907833,GSM907834,GSM907835,GSM907836,GSM907837,GSM907838,GSM907839,GSM907840,GSM907841,GSM907842,GSM907843,GSM907844,GSM907845,GSM907846,GSM907847,GSM907848,GSM907849,GSM907850,GSM907851,GSM907852,GSM907853,GSM907854,GSM907855,GSM907856,GSM907857,GSM907858,GSM907859,GSM907860,GSM907861,GSM907862,GSM907863,GSM907864,GSM907865,GSM907866,GSM907867,GSM907868,GSM907869,GSM907870\r\n",
            "4.68986,4.504,5.2582,4.00736,3.92934,3.40423,3.17638,3.67587,4.44021,3.64016,4.436,4.05706,4.16734,2.47025,2.30383,3.34203,3.18422,3.14779,4.21582,4.73946,4.18499,4.02828,4.51592,4.09465,4.36138,4.27444,4.50061,4.65443,5.54859,4.857,4.01393,4.08155,5.2704,1.95375,4.25933,4.66135,5.13618,3.0838,3.61824,5.25089,3.5503,5.13284,3.62449,3.22424,5.2282,4.89276,3.52814,4.23821,5.43329,4.84116,3.35228,2.67851,4.19984,2.82043,5.4579,4.16969,5.70316,4.09631,5.15864,3.99416,3.62941,4.72806,5.3619,2.47427,3.62251,2.82745,4.50639,2.39803,4.70047,4.90877,4.86451,3.4329,3.4275,5.26649,4.33401,3.2491,2.99252,3.68585,5.08819\r\n",
            "4.78382,4.45236,4.47536,4.24051,4.75795,4.98693,4.52336,4.15107,4.44646,4.61376,4.60773,5.24608,4.69603,4.71288,5.63095,4.6741,4.75098,4.79035,4.63685,4.40809,4.73698,4.69616,3.8987,4.4275,4.57925,4.67197,4.5554,4.82858,4.8811,5.26514,4.85615,4.82011,5.18136,4.65194,5.00489,4.8282,4.88395,5.0208,4.16221,4.73092,4.41017,4.60481,5.70617,5.70204,5.25957,5.13572,4.9618,4.36551,4.5437,4.89482,5.56418,4.68743,6.15363,5.06855,5.10099,4.7092,5.13814,4.56731,4.9752,4.60617,5.80295,4.94297,5.70364,4.23984,5.28328,5.02692,4.89495,4.61533,6.24378,5.24199,5.12842,5.5835,4.56091,3.88207,5.00268,5.29882,4.90804,4.81303,5.67076\r\n"
          ],
          "name": "stdout"
        }
      ]
    },
    {
      "metadata": {
        "id": "PuuL4yEyH_K_",
        "colab_type": "code",
        "outputId": "6f7be410-908b-44cd-e7ff-730134169db4",
        "colab": {
          "base_uri": "https://localhost:8080/",
          "height": 139
        }
      },
      "cell_type": "code",
      "source": [
        "import csv\n",
        "import numpy as np\n",
        "from sklearn.preprocessing import normalize\n",
        "\n",
        "rows = []\n",
        "\n",
        "with open('GSE36980.csv') as csvfile:\n",
        "  reader = csv.reader(csvfile, delimiter=',')\n",
        "  for row in reader:\n",
        "    rows.append(row)\n",
        "\n",
        "rows = rows[1:]\n",
        "\n",
        "# rows = normalize(rows)\n",
        "\n",
        "print(len(rows))\n",
        "biomarkers = np.array(rows).astype(np.float).T.tolist()\n",
        "# list(map(list, zip(*rows)))\n",
        "print(len(biomarkers))\n",
        "\n",
        "train_markers = biomarkers[3:12] + biomarkers[26:69]\n",
        "val_markers = biomarkers[:3] + biomarkers[12:26] + biomarkers[69:]\n",
        "\n",
        "train_labels = targets[3:12] + targets[26:69]\n",
        "val_labels =  targets[:3] + targets[12:26] + targets[69:]\n",
        "print(val_labels)\n",
        "print(train_labels.count('AD'))\n",
        "print(train_labels.count('non-AD'))\n",
        "print(train_labels)"
      ],
      "execution_count": 0,
      "outputs": [
        {
          "output_type": "stream",
          "text": [
            "33297\n",
            "79\n",
            "['AD', 'AD', 'AD', 'AD', 'AD', 'AD', 'non-AD', 'non-AD', 'non-AD', 'non-AD', 'non-AD', 'non-AD', 'non-AD', 'non-AD', 'non-AD', 'non-AD', 'non-AD', 'non-AD', 'non-AD', 'non-AD', 'non-AD', 'non-AD', 'non-AD', 'non-AD', 'non-AD', 'non-AD', 'non-AD']\n",
            "26\n",
            "26\n",
            "['AD', 'AD', 'AD', 'AD', 'AD', 'AD', 'AD', 'AD', 'AD', 'non-AD', 'non-AD', 'non-AD', 'non-AD', 'non-AD', 'non-AD', 'non-AD', 'AD', 'AD', 'AD', 'AD', 'AD', 'AD', 'AD', 'AD', 'AD', 'AD', 'non-AD', 'non-AD', 'non-AD', 'non-AD', 'non-AD', 'non-AD', 'non-AD', 'non-AD', 'non-AD', 'non-AD', 'non-AD', 'non-AD', 'non-AD', 'non-AD', 'non-AD', 'non-AD', 'non-AD', 'non-AD', 'non-AD', 'AD', 'AD', 'AD', 'AD', 'AD', 'AD', 'AD']\n"
          ],
          "name": "stdout"
        }
      ]
    },
    {
      "metadata": {
        "id": "cDG0Sqdb34de",
        "colab_type": "code",
        "outputId": "9313fc81-01da-4a4b-985c-14cb57939939",
        "colab": {
          "base_uri": "https://localhost:8080/",
          "height": 357
        }
      },
      "cell_type": "code",
      "source": [
        "from sklearn import svm\n",
        "\n",
        "train_labels_formatted = [1 if label == 'AD' else 0 for label in train_labels]\n",
        "val_labels_formatted = [1 if label == 'AD' else 0 for label in val_labels]\n",
        "\n",
        "markers_of_interest = []\n",
        "\n",
        "for i in range(len(np.array(train_markers).T.tolist())):\n",
        "  marker = np.array(train_markers)[:, i]\n",
        "  clf = svm.SVC(gamma='scale')\n",
        "  clf.fit(marker.reshape(-1, 1), train_labels_formatted)\n",
        "  score = sum([clf.predict(np.array(val_markers[j][i]).reshape(-1, 1))[0] == val_labels_formatted[j] for j in range(len(val_markers))]) / len(val_markers)\n",
        "  if score > 0.85:\n",
        "    print('success', i, score)\n",
        "    markers_of_interest.append(i)\n",
        "  "
      ],
      "execution_count": 0,
      "outputs": [
        {
          "output_type": "stream",
          "text": [
            "success 734 0.8888888888888888\n",
            "success 2659 0.8888888888888888\n",
            "success 5630 0.8888888888888888\n",
            "success 7157 0.8888888888888888\n",
            "success 13206 0.8888888888888888\n",
            "success 13478 0.8888888888888888\n",
            "success 14699 0.8888888888888888\n",
            "success 16890 0.8888888888888888\n",
            "success 18424 0.8888888888888888\n",
            "success 19389 0.8888888888888888\n",
            "success 21010 0.8888888888888888\n",
            "success 22295 0.8888888888888888\n",
            "success 24120 0.8888888888888888\n",
            "success 24462 0.8888888888888888\n",
            "success 25788 0.8888888888888888\n",
            "success 27076 0.8888888888888888\n",
            "success 27386 0.9259259259259259\n",
            "success 27732 0.8888888888888888\n",
            "success 28324 0.8888888888888888\n",
            "success 29750 0.8888888888888888\n"
          ],
          "name": "stdout"
        }
      ]
    },
    {
      "metadata": {
        "id": "u2FuX6AkN-2x",
        "colab_type": "code",
        "outputId": "459ff858-97ba-4fb9-8694-992b8a65306d",
        "colab": {
          "base_uri": "https://localhost:8080/",
          "height": 347
        }
      },
      "cell_type": "code",
      "source": [
        "import matplotlib.pyplot as plt\n",
        "\n",
        "train1=[]\n",
        "train2=[]\n",
        "\n",
        "for i in range(len(biomarkers)):\n",
        "  if targets[i] == 'AD':\n",
        "    train1.append(biomarkers[i])\n",
        "  else:\n",
        "    train2.append(biomarkers[i])\n",
        "\n",
        "for i in markers_of_interest:\n",
        "  plt.scatter(np.repeat(i, len(np.array(train1)[:, i])), np.array(train1)[:, i], marker='<')\n",
        "  plt.scatter(np.repeat(i, len(np.array(train2)[:, i])), np.array(train2)[:, i], marker='>')"
      ],
      "execution_count": 0,
      "outputs": [
        {
          "output_type": "display_data",
          "data": {
            "image/png": "[encoded data removed]",
            "text/plain": [
              "<Figure size 576x396 with 1 Axes>"
            ]
          },
          "metadata": {
            "tags": []
          }
        }
      ]
    },
    {
      "metadata": {
        "id": "6BCWh2mNQvGl",
        "colab_type": "code",
        "outputId": "31d52b82-45e0-447f-fc69-1027ea45f60c",
        "colab": {
          "base_uri": "https://localhost:8080/",
          "height": 364
        }
      },
      "cell_type": "code",
      "source": [
        "plt.scatter(np.array(train1)[:, 18424], np.add(np.array(train1)[:, 24462], np.array(train1)[:, 27076]), marker='<')\n",
        "plt.scatter(np.array(train2)[:, 18424], np.add(np.array(train2)[:, 24462], np.array(train2)[:, 27076]), marker='>')"
      ],
      "execution_count": 0,
      "outputs": [
        {
          "output_type": "execute_result",
          "data": {
            "text/plain": [
              "<matplotlib.collections.PathCollection at 0x7fd62625a4e0>"
            ]
          },
          "metadata": {
            "tags": []
          },
          "execution_count": 526
        },
        {
          "output_type": "display_data",
          "data": {
            "image/png": "[encoded data removed]",
            "text/plain": [
              "<Figure size 576x396 with 1 Axes>"
            ]
          },
          "metadata": {
            "tags": []
          }
        }
      ]
    },
    {
      "metadata": {
        "id": "7QJexCKs49tm",
        "colab_type": "code",
        "outputId": "0d93d364-7ff3-4301-921b-4e49bbb56d5c",
        "colab": {
          "base_uri": "https://localhost:8080/",
          "height": 34
        }
      },
      "cell_type": "code",
      "source": [
        "from sklearn import svm\n",
        "from sklearn.decomposition import PCA\n",
        "\n",
        "pca = PCA(n_components=52)\n",
        "pca.fit(train_markers)\n",
        "trans_train_markers = pca.transform(train_markers)\n",
        "trans_val_markers = pca.transform(val_markers)\n",
        "\n",
        "print(trans_train_markers.shape)\n",
        "\n",
        "# clf = svm.SVC(gamma='scale')\n",
        "# clf.fit(trans_train_markers, train_labels_formatted)\n",
        "# print([clf.predict([val_marker]) for val_marker in trans_val_markers])"
      ],
      "execution_count": 0,
      "outputs": [
        {
          "output_type": "stream",
          "text": [
            "(52, 52)\n"
          ],
          "name": "stdout"
        }
      ]
    },
    {
      "metadata": {
        "id": "JSC9LH_qdaYa",
        "colab_type": "code",
        "outputId": "f1399a7e-5885-4d8e-9ce7-9a0c110161de",
        "colab": {
          "base_uri": "https://localhost:8080/",
          "height": 399
        }
      },
      "cell_type": "code",
      "source": [
        "import matplotlib.pyplot as plt\n",
        "\n",
        "trans1 = []\n",
        "trans2 = []\n",
        "\n",
        "for i in range(len(trans_train_markers)):\n",
        "  if train_labels[i] == 'AD':\n",
        "    trans1.append(trans_train_markers[i])\n",
        "  else:\n",
        "    trans2.append(trans_train_markers[i])\n",
        "\n",
        "X1 = [x[0] for x in trans1]\n",
        "Y1 = [x[1] for x in trans1]\n",
        "\n",
        "print(len(X1))\n",
        "print(len(Y1))\n",
        "      \n",
        "X2 = [x[0] for x in trans2]\n",
        "Y2 = [x[1] for x in trans2]\n",
        "plt.scatter(X1, Y1, marker='o')\n",
        "plt.scatter(X2, Y2, marker='x')"
      ],
      "execution_count": 0,
      "outputs": [
        {
          "output_type": "stream",
          "text": [
            "26\n",
            "26\n"
          ],
          "name": "stdout"
        },
        {
          "output_type": "execute_result",
          "data": {
            "text/plain": [
              "<matplotlib.collections.PathCollection at 0x7fd67f73b5c0>"
            ]
          },
          "metadata": {
            "tags": []
          },
          "execution_count": 333
        },
        {
          "output_type": "display_data",
          "data": {
            "image/png": "[encoded data removed]",
            "text/plain": [
              "<Figure size 576x396 with 1 Axes>"
            ]
          },
          "metadata": {
            "tags": []
          }
        }
      ]
    },
    {
      "metadata": {
        "id": "sRjtDplCxCFc",
        "colab_type": "code",
        "outputId": "e2e94e8a-f34d-4507-afe8-3d95042bc1ba",
        "colab": {
          "base_uri": "https://localhost:8080/",
          "height": 51
        }
      },
      "cell_type": "code",
      "source": [
        "from sklearn import svm\n",
        "\n",
        "clf = svm.SVC(gamma='scale')\n",
        "clf.fit(trans_train_markers, train_labels_formatted)\n",
        "print([clf.predict([trans_val_marker])[0] for trans_val_marker in trans_val_markers])\n",
        "print(val_labels_formatted)"
      ],
      "execution_count": 0,
      "outputs": [
        {
          "output_type": "stream",
          "text": [
            "[1, 1, 1, 0, 1, 0, 1, 1, 1, 1, 0, 1, 0, 0, 1, 0, 0, 1, 1, 1, 0, 0, 1, 0, 1, 1, 0]\n",
            "[1, 1, 1, 1, 1, 1, 0, 0, 0, 0, 0, 0, 0, 0, 0, 0, 0, 0, 0, 0, 0, 0, 0, 0, 0, 0, 0]\n"
          ],
          "name": "stdout"
        }
      ]
    },
    {
      "metadata": {
        "id": "LtOdh602Te4a",
        "colab_type": "code",
        "colab": {}
      },
      "cell_type": "code",
      "source": [
        "import torch.utils.data as utils\n",
        "\n",
        "def to_dataloader(x, y, batch_size):\n",
        "  my_x = [np.asarray(patient_data) for patient_data in x] # a list of numpy arrays\n",
        "  my_y = [np.asarray([1] if patient_label == 'AD' else [0]) for patient_label in y] # another list of numpy arrays (targets)\n",
        "  \n",
        "  tensor_x = torch.stack([torch.Tensor(i) for i in my_x]) # transform to torch tensors\n",
        "  tensor_y = torch.stack([torch.Tensor(i) for i in my_y])\n",
        "\n",
        "  my_dataset = utils.TensorDataset(tensor_x,tensor_y) # create your datset\n",
        "  my_dataloader = utils.DataLoader(my_dataset, shuffle=True, batch_size=batch_size) # create your dataloader\n",
        "  return my_dataloader\n",
        "\n",
        "loader_train = to_dataloader(trans_train_markers, train_labels, 52)\n",
        "loader_val = to_dataloader(trans_val_markers, val_labels, 1)"
      ],
      "execution_count": 0,
      "outputs": []
    },
    {
      "metadata": {
        "id": "l3AKiS7rlSGC",
        "colab_type": "code",
        "colab": {}
      },
      "cell_type": "code",
      "source": [
        "import torch\n",
        "import torch.nn as nn\n",
        "\n",
        "class SampleCNN(nn.Module):\n",
        "    def __init__(self):\n",
        "        super(SampleCNN, self).__init__()\n",
        "        # 52 x 1\n",
        "        self.conv7 = nn.Sequential(\n",
        "            nn.Conv1d(1, 16, kernel_size=3, stride=3, padding=1),\n",
        "#             nn.BatchNorm1d(64),\n",
        "            nn.ReLU())\n",
        "        # 17 x 64\n",
        "        self.conv8 = nn.Sequential(\n",
        "            nn.Conv1d(16, 32, kernel_size=3, stride=1, padding=0),\n",
        "#             nn.BatchNorm1d(128),\n",
        "            nn.ReLU(),\n",
        "            nn.MaxPool1d(3,stride=3))\n",
        "        # 5 x 256\n",
        "        self.conv9 = nn.Sequential(\n",
        "            nn.Conv1d(32, 32, kernel_size=3, stride=1, padding=0),\n",
        "#             nn.BatchNorm1d(256),\n",
        "            nn.ReLU(),\n",
        "            nn.MaxPool1d(3,stride=3))\n",
        "        # 1 x 256\n",
        "        self.fc1 = nn.Linear(52 * 52, 128)\n",
        "        self.fc2 = nn.Linear(128, 1)\n",
        "        self.activation = nn.Sigmoid()\n",
        "    \n",
        "    def forward(self, x):\n",
        "        # input x : 6 x 33297\n",
        "        # expected conv1d input : minibatch_size x num_channel x width\n",
        "\n",
        "        x = x.view(x.shape[0], 1,-1)\n",
        "        # x : 6 x 1 x 33297\n",
        "#         out = self.conv7(x)\n",
        "#         out = self.conv8(out)\n",
        "#         out = self.conv9(out)\n",
        "        out = x\n",
        "#         out = out.view(x.shape[0], out.size(1) * out.size(2))\n",
        "        out = self.fc1(out)\n",
        "        logit = self.fc2(out)\n",
        "\n",
        "        logit = self.activation(logit)\n",
        "        \n",
        "        return logit"
      ],
      "execution_count": 0,
      "outputs": []
    },
    {
      "metadata": {
        "id": "v2ogsNqtO3Kp",
        "colab_type": "code",
        "colab": {}
      },
      "cell_type": "code",
      "source": [
        "import torch\n",
        "import torch.nn as nn\n",
        "\n",
        "dropout = 0.5\n",
        "\n",
        "class SampleCNN(nn.Module):\n",
        "    def __init__(self):\n",
        "        super(SampleCNN, self).__init__()\n",
        "\n",
        "#         # 33297 x 1\n",
        "#         self.conv1 = nn.Sequential(\n",
        "#             nn.Conv1d(1, 128, kernel_size=3, stride=3, padding=0),\n",
        "#             nn.BatchNorm1d(128),\n",
        "#             nn.ReLU())\n",
        "#         # 11099 x 128\n",
        "#         self.conv2 = nn.Sequential(\n",
        "#             nn.Conv1d(128, 128, kernel_size=3, stride=1, padding=0),\n",
        "#             nn.BatchNorm1d(128),\n",
        "#             nn.ReLU(),\n",
        "#             nn.MaxPool1d(3, stride=3))\n",
        "#         # 3699 x 128\n",
        "#         self.conv3 = nn.Sequential(\n",
        "#             nn.Conv1d(128, 128, kernel_size=3, stride=1, padding=1),\n",
        "#             nn.BatchNorm1d(128),\n",
        "#             nn.ReLU(),\n",
        "#             nn.MaxPool1d(3,stride=3))\n",
        "#         # 1233 x 128\n",
        "#         self.conv4 = nn.Sequential(\n",
        "#             nn.Conv1d(128, 256, kernel_size=3, stride=1, padding=1),\n",
        "#             nn.BatchNorm1d(256),\n",
        "#             nn.ReLU(),\n",
        "#             nn.MaxPool1d(3,stride=3))\n",
        "#         # 411 x 256\n",
        "#         self.conv5 = nn.Sequential(\n",
        "#             nn.Conv1d(256, 256, kernel_size=3, stride=1, padding=1),\n",
        "#             nn.BatchNorm1d(256),\n",
        "#             nn.ReLU(),\n",
        "#             nn.MaxPool1d(3,stride=3))\n",
        "        # 137 x 256\n",
        "        self.conv6 = nn.Sequential(\n",
        "            nn.Conv1d(1, 256, kernel_size=3, stride=1, padding=0),\n",
        "            nn.BatchNorm1d(256),\n",
        "            nn.ReLU(),\n",
        "            nn.MaxPool1d(3,stride=3))\n",
        "#             nn.Dropout(dropout))\n",
        "        # 45 x 256\n",
        "        self.conv7 = nn.Sequential(\n",
        "            nn.Conv1d(256, 256, kernel_size=3, stride=1, padding=1),\n",
        "            nn.BatchNorm1d(256),\n",
        "            nn.ReLU(),\n",
        "            nn.MaxPool1d(3,stride=3))\n",
        "        # 15 x 256\n",
        "        self.conv8 = nn.Sequential(\n",
        "            nn.Conv1d(256, 256, kernel_size=3, stride=1, padding=1),\n",
        "            nn.BatchNorm1d(256),\n",
        "            nn.ReLU(),\n",
        "            nn.MaxPool1d(3,stride=3))\n",
        "        # 5 x 256\n",
        "        self.conv9 = nn.Sequential(\n",
        "            nn.Conv1d(256, 256, kernel_size=3, stride=1, padding=0),\n",
        "            nn.BatchNorm1d(256),\n",
        "            nn.ReLU(),\n",
        "            nn.MaxPool1d(3,stride=3))\n",
        "        # 1 x 256\n",
        "#         self.conv10 = nn.Sequential(\n",
        "#             nn.Conv1d(256, 256, kernel_size=3, stride=1, padding=1),\n",
        "#             nn.BatchNorm1d(512),\n",
        "#             nn.ReLU(),\n",
        "#             nn.Dropout())\n",
        "        self.fc = nn.Linear(256, 1)\n",
        "        self.activation = nn.Sigmoid()\n",
        "    \n",
        "    def forward(self, x):\n",
        "        # input x : 6 x 33297\n",
        "        # expected conv1d input : minibatch_size x num_channel x width\n",
        "\n",
        "        x = x.view(x.shape[0], 1,-1)\n",
        "        # x : 6 x 1 x 33297\n",
        "\n",
        "#         out = self.conv1(x)\n",
        "#         out = self.conv2(out)\n",
        "#         out = self.conv3(out)\n",
        "#         out = self.conv4(out)\n",
        "#         out = self.conv5(out)\n",
        "        out = self.conv6(x)\n",
        "        out = self.conv7(out)\n",
        "        out = self.conv8(out)\n",
        "        out = self.conv9(out)\n",
        "#         out = self.conv10(out)\n",
        "        \n",
        "        out = out.view(x.shape[0], out.size(1) * out.size(2))\n",
        "        logit = self.fc(out)\n",
        "\n",
        "        logit = self.activation(logit)\n",
        "        \n",
        "        return logit"
      ],
      "execution_count": 0,
      "outputs": []
    },
    {
      "metadata": {
        "id": "WsgPSqB5SPpZ",
        "colab_type": "code",
        "colab": {}
      },
      "cell_type": "code",
      "source": [
        "USE_GPU = True\n",
        "dtype = torch.float32 \n",
        "torch.manual_seed(0)\n",
        "\n",
        "if USE_GPU and torch.cuda.is_available():\n",
        "    device = torch.device('cuda')\n",
        "else:\n",
        "    device = torch.device('cpu')\n",
        "\n",
        "bce = nn.BCELoss()\n",
        "    \n",
        "    \n",
        "def check_accuracy(loader, model):\n",
        "    # function for test accuracy on validation and test set\n",
        "    \n",
        "    print('Checking accuracy on validation/test set')\n",
        "    \n",
        "    num_correct = 0\n",
        "    num_samples = 0\n",
        "    model.eval()  # set model to evaluation mode\n",
        "    with torch.no_grad():\n",
        "        for t, (x, y) in enumerate(loader):\n",
        "#             print(x, y)\n",
        "            x = x.to(device=device, dtype=dtype)  # move to device\n",
        "#             print(x)\n",
        "            y = y.to(device=device, dtype=dtype)\n",
        "            scores = model(x)\n",
        "#             print(scores)\n",
        "            _, preds = scores.max(1)\n",
        "#             print(preds)\n",
        "#             print(y.round().long())\n",
        "            num_correct += (preds == y.long()).sum()\n",
        "            num_samples += preds.size(0)\n",
        "        acc = float(num_correct) / (num_samples * x.size(0))\n",
        "        print('Got %d / %d correct (%.2f)' % (num_correct, num_samples * x.size(0), 100 * acc))\n",
        "        return acc\n",
        "\n",
        "def train_part(model, optimizer, epochs=1):\n",
        "    \"\"\"\n",
        "    Train a model on CIFAR-10 using the PyTorch Module API.\n",
        "    \n",
        "    Inputs:\n",
        "    - model: A PyTorch Module giving the model to train.\n",
        "    - optimizer: An Optimizer object we will use to train the model\n",
        "    - epochs: (Optional) A Python integer giving the number of epochs to train for\n",
        "    \n",
        "    Returns: Nothing, but prints model accuracies during training.\n",
        "    \"\"\"\n",
        "    model = model.to(device=device)  # move the model parameters to CPU/GPU\n",
        "    for e in range(epochs):\n",
        "        for t, (x, y) in enumerate(loader_train):\n",
        "            model.train()  # put model to training mode\n",
        "            x = x.to(device=device, dtype=dtype)  # move to device, e.g. GPU\n",
        "            y = y.to(device=device, dtype=dtype)\n",
        "\n",
        "            scores = model(x)\n",
        "#             print(scores, y)\n",
        "            train_err = sum([scores[i].round() == y[i] for i in range(len(scores))]).type(torch.float32) / len(scores)\n",
        "            print(train_err)\n",
        "    \n",
        "            loss = bce(scores, y)\n",
        "\n",
        "            # Zero out all of the gradients for the variables which the optimizer\n",
        "            # will update.\n",
        "            optimizer.zero_grad()\n",
        "\n",
        "            loss.backward()\n",
        "\n",
        "            # Update the parameters of the model using the gradients\n",
        "            optimizer.step()\n",
        "\n",
        "            print('Epoch: %d, Iteration %d, loss = %.4f' % (e, t, loss.item()))\n",
        "            check_accuracy(loader_train, model)\n",
        "            check_accuracy(loader_val, model)\n",
        "            print()"
      ],
      "execution_count": 0,
      "outputs": []
    },
    {
      "metadata": {
        "id": "UxU_sySDWHC4",
        "colab_type": "code",
        "colab": {}
      },
      "cell_type": "code",
      "source": [
        "import torch.optim as optim\n",
        "\n",
        "def weights_init(m):\n",
        "    if isinstance(m, nn.Conv2d):\n",
        "        xavier(m.weight.data)\n",
        "        if m.bias is not None:\n",
        "          xavier(m.bias.data)\n",
        "\n",
        "# define and train the network\n",
        "model = SampleCNN()\n",
        "model.apply(weights_init)\n",
        "optimizer = optim.Adam(model.parameters(), lr=0.001, weight_decay=1e-4)\n",
        "\n",
        "train_part(model, optimizer, epochs = 20)\n",
        "\n",
        "\n",
        "# report test set accuracy\n",
        "check_accuracy(loader_val, model)\n",
        "\n",
        "\n",
        "# save the model\n",
        "torch.save(model.state_dict(), 'model.pt')"
      ],
      "execution_count": 0,
      "outputs": []
    },
    {
      "metadata": {
        "id": "angWO25DpFbg",
        "colab_type": "code",
        "outputId": "069d57b9-f8e4-4f82-8181-89236b413f6d",
        "colab": {
          "base_uri": "https://localhost:8080/",
          "height": 493
        }
      },
      "cell_type": "code",
      "source": [
        "model.eval()  # set model to evaluation mode\n",
        "count = 0\n",
        "with torch.no_grad():\n",
        "  for t, (x, y) in enumerate(loader_val):\n",
        "    count += (model(x).round() == y)\n",
        "    print(model(x), y)\n",
        "print(count.item() / len(loader_val))"
      ],
      "execution_count": 0,
      "outputs": [
        {
          "output_type": "stream",
          "text": [
            "tensor([[0.5026]]) tensor([[0.]])\n",
            "tensor([[0.5067]]) tensor([[1.]])\n",
            "tensor([[0.5052]]) tensor([[0.]])\n",
            "tensor([[0.5074]]) tensor([[1.]])\n",
            "tensor([[0.5039]]) tensor([[0.]])\n",
            "tensor([[0.5044]]) tensor([[0.]])\n",
            "tensor([[0.5042]]) tensor([[0.]])\n",
            "tensor([[0.5057]]) tensor([[0.]])\n",
            "tensor([[0.5029]]) tensor([[0.]])\n",
            "tensor([[0.5024]]) tensor([[0.]])\n",
            "tensor([[0.5025]]) tensor([[0.]])\n",
            "tensor([[0.5053]]) tensor([[0.]])\n",
            "tensor([[0.5014]]) tensor([[0.]])\n",
            "tensor([[0.5029]]) tensor([[0.]])\n",
            "tensor([[0.5070]]) tensor([[1.]])\n",
            "tensor([[0.5058]]) tensor([[1.]])\n",
            "tensor([[0.5030]]) tensor([[0.]])\n",
            "tensor([[0.5042]]) tensor([[0.]])\n",
            "tensor([[0.5034]]) tensor([[1.]])\n",
            "tensor([[0.5028]]) tensor([[0.]])\n",
            "tensor([[0.5013]]) tensor([[0.]])\n",
            "tensor([[0.5045]]) tensor([[0.]])\n",
            "tensor([[0.5065]]) tensor([[0.]])\n",
            "tensor([[0.5055]]) tensor([[0.]])\n",
            "tensor([[0.5047]]) tensor([[0.]])\n",
            "tensor([[0.5052]]) tensor([[1.]])\n",
            "tensor([[0.5007]]) tensor([[0.]])\n",
            "0.2222222222222222\n"
          ],
          "name": "stdout"
        }
      ]
    },
    {
      "metadata": {
        "id": "i0FYpA2hm96L",
        "colab_type": "code",
        "outputId": "e4f3218c-8ec9-406c-8005-f61260ca3902",
        "colab": {
          "base_uri": "https://localhost:8080/",
          "height": 170
        }
      },
      "cell_type": "code",
      "source": [
        "check_accuracy(loader_val, model)"
      ],
      "execution_count": 0,
      "outputs": [
        {
          "output_type": "stream",
          "text": [
            "Checking accuracy on validation/test set\n",
            "tensor([[0.4783]])\n",
            "tensor([[0.4772]])\n",
            "tensor([[0.4787]])\n",
            "tensor([[0.4791]])\n",
            "tensor([[0.4761]])\n",
            "tensor([[0.4783]])\n",
            "Got 3 / 6 correct (50.00)\n"
          ],
          "name": "stdout"
        },
        {
          "output_type": "execute_result",
          "data": {
            "text/plain": [
              "0.5"
            ]
          },
          "metadata": {
            "tags": []
          },
          "execution_count": 291
        }
      ]
    },
    {
      "metadata": {
        "id": "P7iqy4KgFtjR",
        "colab_type": "code",
        "outputId": "c8e097ab-0b3d-476a-d7c8-fb1e7f684bf3",
        "colab": {
          "base_uri": "https://localhost:8080/",
          "height": 901
        }
      },
      "cell_type": "code",
      "source": [
        "check_accuracy(loader_train, model)"
      ],
      "execution_count": 0,
      "outputs": [
        {
          "output_type": "stream",
          "text": [
            "Checking accuracy on validation/test set\n",
            "tensor([[4.8544e-06],\n",
            "        [5.5474e-06],\n",
            "        [7.9946e-06],\n",
            "        [7.4428e-06],\n",
            "        [7.4875e-06],\n",
            "        [8.6369e-06],\n",
            "        [5.0672e-06],\n",
            "        [5.2040e-06],\n",
            "        [5.3980e-06],\n",
            "        [4.6464e-06],\n",
            "        [9.9121e-06],\n",
            "        [4.7179e-06],\n",
            "        [5.1232e-06],\n",
            "        [5.0366e-06],\n",
            "        [7.4417e-06],\n",
            "        [5.8650e-06],\n",
            "        [4.7931e-06],\n",
            "        [5.8440e-06],\n",
            "        [6.1195e-06],\n",
            "        [5.0469e-06],\n",
            "        [5.6498e-06],\n",
            "        [4.2148e-06],\n",
            "        [6.0482e-06],\n",
            "        [4.7606e-06],\n",
            "        [5.8148e-06],\n",
            "        [5.2440e-06],\n",
            "        [9.8019e-06],\n",
            "        [5.3831e-06],\n",
            "        [7.7232e-06],\n",
            "        [5.4242e-06],\n",
            "        [4.9744e-06],\n",
            "        [5.9519e-06],\n",
            "        [5.0614e-06],\n",
            "        [5.9144e-06],\n",
            "        [7.0138e-06],\n",
            "        [5.3935e-06],\n",
            "        [7.9849e-06],\n",
            "        [5.2779e-06],\n",
            "        [1.0214e-05],\n",
            "        [5.9370e-06],\n",
            "        [5.5868e-06],\n",
            "        [6.5282e-06],\n",
            "        [9.3570e-06],\n",
            "        [6.9591e-06],\n",
            "        [4.6590e-06],\n",
            "        [4.8110e-06],\n",
            "        [5.0011e-06],\n",
            "        [6.8115e-06],\n",
            "        [4.5347e-06]])\n",
            "Got 1127 / 2401 correct (46.94)\n"
          ],
          "name": "stdout"
        },
        {
          "output_type": "execute_result",
          "data": {
            "text/plain": [
              "0.46938775510204084"
            ]
          },
          "metadata": {
            "tags": []
          },
          "execution_count": 288
        }
      ]
    },
    {
      "metadata": {
        "id": "btV-6Z_rG47H",
        "colab_type": "code",
        "colab": {}
      },
      "cell_type": "code",
      "source": [
        ""
      ],
      "execution_count": 0,
      "outputs": []
    }
  ]
}